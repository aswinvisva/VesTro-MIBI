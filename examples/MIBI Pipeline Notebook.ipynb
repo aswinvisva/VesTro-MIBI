{
 "cells": [
  {
   "cell_type": "markdown",
   "metadata": {},
   "source": [
    "# MIBI Analysis Pipeline"
   ]
  },
  {
   "cell_type": "markdown",
   "metadata": {},
   "source": [
    "## 1 Getting Setup Ready"
   ]
  },
  {
   "cell_type": "markdown",
   "metadata": {},
   "source": [
    "### 1.1 Adding Paths to Sys Path"
   ]
  },
  {
   "cell_type": "code",
   "execution_count": 1,
   "metadata": {},
   "outputs": [],
   "source": [
    "import sys\n",
    "import os\n",
    "sys.path.insert(0,'..')"
   ]
  },
  {
   "cell_type": "markdown",
   "metadata": {},
   "source": [
    "### 1.2 Import Libraries"
   ]
  },
  {
   "cell_type": "code",
   "execution_count": 2,
   "metadata": {},
   "outputs": [],
   "source": [
    "from datetime import datetime\n",
    "\n",
    "from config.config_settings import Config\n",
    "from src.data_analysis._shape_quantification_metrics import *\n",
    "from src.data_analysis.dimensionality_reduction_clustering import DimensionalityReductionClusteringAnalyzer\n",
    "from src.data_analysis.positive_vessel_summary_analyzer import PositiveVesselSummaryAnalyzer\n",
    "from src.data_analysis.vessel_asymmetry_analyzer import VesselAsymmetryAnalyzer\n",
    "from src.data_loading.mibi_data_feed import MIBIDataFeed\n",
    "from src.data_loading.mibi_loader import MIBILoader\n",
    "from src.mibi_pipeline import MIBIPipeline\n",
    "from src.utils.utils_functions import mkdir_p"
   ]
  },
  {
   "cell_type": "markdown",
   "metadata": {},
   "source": [
    "### 1.3 Setting Paths"
   ]
  },
  {
   "cell_type": "code",
   "execution_count": 3,
   "metadata": {},
   "outputs": [],
   "source": [
    "# Path to MIBI Data\n",
    "data_loc = \"/media/aswin/large_storage/oliveria_data/data/hires\"\n",
    "\n",
    "# Path to Masks\n",
    "masks_loc = \"/media/aswin/large_storage/oliveria_data/masks/hires\"\n",
    "\n",
    "# Path to Save Results\n",
    "results_dir = \"/media/aswin/large_storage/results/experiment_%s/\" % datetime.now().strftime(\"%d_%m_%Y_%H:%M:%S\")\n",
    "mkdir_p(results_dir)\n",
    "\n",
    "# OPTIONAL: Path to Saved CSV of Previous Pipeline Run\n",
    "csv_loc = \"/media/aswin/large_storage/results/5um_impansion_5um_expansion.csv\""
   ]
  },
  {
   "cell_type": "markdown",
   "metadata": {},
   "source": [
    "## 2 Create Data Feed"
   ]
  },
  {
   "cell_type": "code",
   "execution_count": 4,
   "metadata": {},
   "outputs": [],
   "source": [
    "conf = Config()\n",
    "\n",
    "hires_feed = MIBIDataFeed(\n",
    "    feed_data_loc=data_loc,\n",
    "    feed_mask_loc=masks_loc,\n",
    "    feed_name=\"Hires\",\n",
    "    n_points=48\n",
    ")"
   ]
  },
  {
   "cell_type": "markdown",
   "metadata": {},
   "source": [
    "## 3 Data Preprocessing"
   ]
  },
  {
   "cell_type": "code",
   "execution_count": 5,
   "metadata": {},
   "outputs": [
    {
     "name": "stderr",
     "output_type": "stream",
     "text": [
      "INFO:Loading data feeds\n",
      "\n",
      "100%|██████████| 48/48 [00:07<00:00,  6.18it/s]\n"
     ]
    },
    {
     "name": "stdout",
     "output_type": "stream",
     "text": [
      "Configuration:\n",
      "\tSMA_positive_threshold         = 0.1\n",
      "\tall_masks                      = ['astrocytes', 'BBB', 'largevessels', 'microglia', 'myelin', 'plaques', 'tangles', 'allvessels']\n",
      "\tbrain_region_names             = ['MFG', 'HIP', 'CAUD']\n",
      "\tbrain_region_point_ranges      = [(1, 16), (17, 32), (33, 48)]\n",
      "\tcaud_hip_mfg_separate_dir      = False\n",
      "\tcreate_allpoints_expansion_line_plots = False\n",
      "\tcreate_biaxial_scatter_plot    = False\n",
      "\tcreate_blurred_vessels_mask    = False\n",
      "\tcreate_brain_region_expansion_heatmaps = False\n",
      "\tcreate_brain_region_expansion_line_plots = False\n",
      "\tcreate_categorical_split_expansion_heatmaps = False\n",
      "\tcreate_categorical_violin_plot = False\n",
      "\tcreate_categorical_violin_plot_with_images = True\n",
      "\tcreate_continuous_scatter_plot = False\n",
      "\tcreate_embedded_vessel_id_masks = False\n",
      "\tcreate_expanded_vessel_masks   = False\n",
      "\tcreate_expansion_box_plots     = False\n",
      "\tcreate_expansion_ring_plots    = False\n",
      "\tcreate_expansion_violin_plots  = False\n",
      "\tcreate_expression_histogram    = False\n",
      "\tcreate_marker_expression_overlay_masks = False\n",
      "\tcreate_point_expansion_line_plots = False\n",
      "\tcreate_pseudo_time_heatmap     = True\n",
      "\tcreate_removed_vessels_expression_boxplot = False\n",
      "\tcreate_removed_vessels_mask    = False\n",
      "\tcreate_spatial_probability_maps = False\n",
      "\tcreate_umap_projection_scatter_plots = False\n",
      "\tcreate_vessel_areas_histograms_and_boxplots = False\n",
      "\tcreate_vessel_asymmetry_area_spread_plot = False\n",
      "\tcreate_vessel_expansion_line_plots = False\n",
      "\tcreate_vessel_id_plot          = False\n",
      "\tcreate_vessel_images_by_categorical_variable = False\n",
      "\tcreate_vessel_nonvessel_heatmaps = False\n",
      "\tcreate_vessel_nonvessel_mask   = False\n",
      "\tdata_dir                       = /media/large_storage/oliveria_data/data/hires\n",
      "\tdata_resolution                = hires\n",
      "\tdata_resolution_size           = (500, 500)\n",
      "\tdata_resolution_units          = μm\n",
      "\tdescribe_markers_when_reading  = False\n",
      "\tdistance_interval              = 0.5\n",
      "\texpansion_to_run               = [10]\n",
      "\texpression_type                = area_normalized_counts\n",
      "\tguassian_blur                  = (2, 2)\n",
      "\tlarge_vessel_threshold         = 500\n",
      "\tline_plots_bin_colors          = {'Nucleus': 'y', 'Microglia': 'g', 'Disease': 'k', 'Vessels': 'b', 'Astrocytes': 'r', 'Synapse': 'rebeccapurple', 'Oligodendrocytes': 'darkorange', 'Neurons': 'm'}\n",
      "\tline_plots_color_maps          = {'Nucleus': <matplotlib.colors.LinearSegmentedColormap object at 0x7fd79c657700>, 'Microglia': <matplotlib.colors.LinearSegmentedColormap object at 0x7fd743509460>, 'Disease': <matplotlib.colors.LinearSegmentedColormap object at 0x7fd7435094c0>, 'Vessels': <matplotlib.colors.LinearSegmentedColormap object at 0x7fd7435689a0>, 'Astrocytes': <matplotlib.colors.LinearSegmentedColormap object at 0x7fd743509790>, 'Synapse': <matplotlib.colors.LinearSegmentedColormap object at 0x7fd7435095e0>, 'Oligodendrocytes': <matplotlib.colors.LinearSegmentedColormap object at 0x7fd743509520>, 'Neurons': <matplotlib.colors.LinearSegmentedColormap object at 0x7fd79c62f730>}\n",
      "\tmarker_clusters                = {'Nucleus': ['HH3'], 'Microglia': ['CD45', 'HLADR', 'Iba1'], 'Disease': ['CD47', 'ABeta42', 'polyubiK48', 'PHFTau', '8OHGuanosine'], 'Vessels': ['SMA', 'CD31', 'CollagenIV', 'TrkA', 'GLUT1', 'Desmin', 'vWF', 'CD105'], 'Astrocytes': ['S100b', 'GlnSyn', 'Cx30', 'EAAT2', 'CD44', 'GFAP', 'Cx43'], 'Synapse': ['CD56', 'Synaptophysin', 'VAMP2', 'PSD95'], 'Oligodendrocytes': ['MOG', 'MAG'], 'Neurons': ['Calretinin', 'Parvalbumin', 'MAP2', 'Gephyrin']}\n",
      "\tmarkers_to_ignore              = ['GAD', 'Neurogranin', 'ABeta40', 'pTDP43', 'polyubik63', 'Background', 'Au197', 'Ca40', 'Fe56', 'Na23', 'Si28', 'La139', 'Ta181', 'C12']\n",
      "\tmask_marker_clusters           = {'Vessels': ['GLUT1', 'vWF', 'CD31', 'SMA']}\n",
      "\tmasks_dir                      = /media/large_storage/oliveria_data/masks/hires\n",
      "\tmax_expansions                 = 10\n",
      "\tmax_inward_expansion           = 10\n",
      "\tmedium_vessel_threshold        = 200\n",
      "\tminimum_contour_area_to_remove = 29.802322387695312\n",
      "\tn_markers                      = 34\n",
      "\tn_points                       = 48\n",
      "\tn_points_per_dir               = 48\n",
      "\tn_workers                      = 5\n",
      "\tnon_marker_vars                = ['Contour Area', 'Vessel Size', 'SMA Presence', 'Data Type', 'Asymmetry', 'Asymmetry Score', 'Region']\n",
      "\tnormalization_type             = percentile\n",
      "\tpercentile_to_normalize        = 99\n",
      "\tperform_inward_expansions      = True\n",
      "\tpixel_interval                 = 1.024\n",
      "\tpixels_to_distance             = 0.48828125\n",
      "\tpoint_dir                      = Point\n",
      "\tprimary_categorical_splitter   = Asymmetry\n",
      "\tsave_to_csv                    = False\n",
      "\tscaling_factor                 = 100\n",
      "\tsecondary_categorical_splitter = Vessel Size\n",
      "\tsegmentation_mask_size         = (1024, 1024)\n",
      "\tselected_segmentation_mask_type = allvessels\n",
      "\tshow_probability_distribution_for_expression = False\n",
      "\tshow_segmentation_masks_when_reading = False\n",
      "\tshow_vessel_contours_when_extracting = False\n",
      "\tshow_vessel_masks_when_generating_expression = False\n",
      "\tsmall_vessel_threshold         = 0\n",
      "\ttifs_dir                       = TIFs\n",
      "\ttransformation_type            = arcsinh\n",
      "\tuse_guassian_blur_when_extracting_vessels = True\n",
      "\tvessel_line_plots_points       = [1, 7, 26, 30, 43, 48]\n",
      "\n"
     ]
    },
    {
     "name": "stderr",
     "output_type": "stream",
     "text": [
      "INFO:\n",
      "|    | Marker        |   % Positive Vessels |   % Negative Vessels |   # Positive Vessels |   # Negative Vessels |\n",
      "|---:|:--------------|---------------------:|---------------------:|---------------------:|---------------------:|\n",
      "|  0 | HH3           |             61.9482  |             38.0518  |                 1291 |                  793 |\n",
      "|  1 | CD45          |             17.4184  |             82.5816  |                  363 |                 1721 |\n",
      "|  2 | HLADR         |             37.62    |             62.38    |                  784 |                 1300 |\n",
      "|  3 | Iba1          |             53.167   |             46.833   |                 1108 |                  976 |\n",
      "|  4 | CD47          |             34.7409  |             65.2591  |                  724 |                 1360 |\n",
      "|  5 | ABeta42       |              4.12668 |             95.8733  |                   86 |                 1998 |\n",
      "|  6 | polyubiK48    |             31.142   |             68.858   |                  649 |                 1435 |\n",
      "|  7 | PHFTau        |             25.144   |             74.856   |                  524 |                 1560 |\n",
      "|  8 | 8OHGuanosine  |             37.9559  |             62.0441  |                  791 |                 1293 |\n",
      "|  9 | SMA           |              7.72553 |             92.2745  |                  161 |                 1923 |\n",
      "| 10 | CD31          |              3.31094 |             96.6891  |                   69 |                 2015 |\n",
      "| 11 | CollagenIV    |             43.3301  |             56.6699  |                  903 |                 1181 |\n",
      "| 12 | TrkA          |             12.9079  |             87.0921  |                  269 |                 1815 |\n",
      "| 13 | GLUT1         |             23.5125  |             76.4875  |                  490 |                 1594 |\n",
      "| 14 | Desmin        |              6.62188 |             93.3781  |                  138 |                 1946 |\n",
      "| 15 | vWF           |             17.5624  |             82.4376  |                  366 |                 1718 |\n",
      "| 16 | CD105         |             55.8541  |             44.1459  |                 1164 |                  920 |\n",
      "| 17 | S100b         |             81.8618  |             18.1382  |                 1706 |                  378 |\n",
      "| 18 | GlnSyn        |             85.8925  |             14.1075  |                 1790 |                  294 |\n",
      "| 19 | Cx30          |             74.952   |             25.048   |                 1562 |                  522 |\n",
      "| 20 | EAAT2         |             27.1113  |             72.8887  |                  565 |                 1519 |\n",
      "| 21 | CD44          |             36.2284  |             63.7716  |                  755 |                 1329 |\n",
      "| 22 | GFAP          |             79.1267  |             20.8733  |                 1649 |                  435 |\n",
      "| 23 | Cx43          |             88.1478  |             11.8522  |                 1837 |                  247 |\n",
      "| 24 | CD56          |             87.0921  |             12.9079  |                 1815 |                  269 |\n",
      "| 25 | Synaptophysin |             70.3455  |             29.6545  |                 1466 |                  618 |\n",
      "| 26 | VAMP2         |             93.1862  |              6.81382 |                 1942 |                  142 |\n",
      "| 27 | PSD95         |             58.5893  |             41.4107  |                 1221 |                  863 |\n",
      "| 28 | MOG           |             69.6257  |             30.3743  |                 1451 |                  633 |\n",
      "| 29 | MAG           |             70.6334  |             29.3666  |                 1472 |                  612 |\n",
      "| 30 | Calretinin    |             13.0518  |             86.9482  |                  272 |                 1812 |\n",
      "| 31 | Parvalbumin   |             46.977   |             53.023   |                  979 |                 1105 |\n",
      "| 32 | MAP2          |             55.2303  |             44.7697  |                 1151 |                  933 |\n",
      "| 33 | Gephyrin      |             19.8656  |             80.1344  |                  414 |                 1670 |\n"
     ]
    },
    {
     "data": {
      "text/plain": [
       "<Figure size 864x720 with 0 Axes>"
      ]
     },
     "metadata": {},
     "output_type": "display_data"
    },
    {
     "data": {
      "text/plain": [
       "<Figure size 1440x720 with 0 Axes>"
      ]
     },
     "metadata": {},
     "output_type": "display_data"
    },
    {
     "data": {
      "text/plain": [
       "<Figure size 864x720 with 0 Axes>"
      ]
     },
     "metadata": {},
     "output_type": "display_data"
    },
    {
     "data": {
      "text/plain": [
       "<Figure size 1440x720 with 0 Axes>"
      ]
     },
     "metadata": {},
     "output_type": "display_data"
    }
   ],
   "source": [
    "pipe = MIBIPipeline(conf, results_dir, csv_loc=csv_loc)\n",
    "pipe.add_feed(hires_feed)\n",
    "pipe.load_preprocess_data()\n",
    "\n",
    "# Analyzers we would like to run\n",
    "pipe.add_analyzer(VesselAsymmetryAnalyzer) \n",
    "pipe.add_analyzer(PositiveVesselSummaryAnalyzer)\n",
    "pipe.add_analyzer(DimensionalityReductionClusteringAnalyzer)\n",
    "\n",
    "pipe.analyze_data(mask_type=\"expansion_only\", \n",
    "                  marker_settings=\"all_markers\",\n",
    "                  shape_quantification_method={\n",
    "                          \"Name\": \"Solidity\",\n",
    "                          \"Metric\": solidity\n",
    "                      }\n",
    "                 )"
   ]
  },
  {
   "cell_type": "markdown",
   "metadata": {},
   "source": [
    "## 4 Visualizations Sandbox"
   ]
  },
  {
   "cell_type": "code",
   "execution_count": 6,
   "metadata": {},
   "outputs": [
    {
     "data": {
      "image/png": "[encoded data removed]",
      "text/plain": [
       "<Figure size 432x288 with 1 Axes>"
      ]
     },
     "metadata": {
      "needs_background": "light"
     },
     "output_type": "display_data"
    }
   ],
   "source": [
    "# Expression Histograms\n",
    "pipe.visualizer.expression_histogram()"
   ]
  },
  {
   "cell_type": "code",
   "execution_count": 7,
   "metadata": {},
   "outputs": [
    {
     "name": "stderr",
     "output_type": "stream",
     "text": [
      "../src/data_visualization/visualizer.py:1099: RuntimeWarning: invalid value encountered in true_divide\n",
      "  normed_data = (marker_dict[marker] - np.min(marker_dict[marker])) / (\n",
      "../src/data_visualization/visualizer.py:1124: RuntimeWarning: More than 20 figures have been opened. Figures created through the pyplot interface (`matplotlib.pyplot.figure`) are retained until explicitly closed and may consume too much memory. (To control this warning, see the rcParam `figure.max_open_warning`).\n",
      "  fig = plt.figure(constrained_layout=True, figsize=(40, 15))\n"
     ]
    },
    {
     "data": {
      "text/plain": [
       "<Figure size 2880x1080 with 0 Axes>"
      ]
     },
     "metadata": {},
     "output_type": "display_data"
    },
    {
     "data": {
      "text/plain": [
       "<Figure size 2880x1080 with 0 Axes>"
      ]
     },
     "metadata": {},
     "output_type": "display_data"
    },
    {
     "data": {
      "text/plain": [
       "<Figure size 2880x1080 with 0 Axes>"
      ]
     },
     "metadata": {},
     "output_type": "display_data"
    },
    {
     "data": {
      "text/plain": [
       "<Figure size 2880x1080 with 0 Axes>"
      ]
     },
     "metadata": {},
     "output_type": "display_data"
    },
    {
     "data": {
      "text/plain": [
       "<Figure size 2880x1080 with 0 Axes>"
      ]
     },
     "metadata": {},
     "output_type": "display_data"
    },
    {
     "data": {
      "text/plain": [
       "<Figure size 2880x1080 with 0 Axes>"
      ]
     },
     "metadata": {},
     "output_type": "display_data"
    },
    {
     "data": {
      "text/plain": [
       "<Figure size 2880x1080 with 0 Axes>"
      ]
     },
     "metadata": {},
     "output_type": "display_data"
    },
    {
     "data": {
      "text/plain": [
       "<Figure size 2880x1080 with 0 Axes>"
      ]
     },
     "metadata": {},
     "output_type": "display_data"
    },
    {
     "data": {
      "text/plain": [
       "<Figure size 2880x1080 with 0 Axes>"
      ]
     },
     "metadata": {},
     "output_type": "display_data"
    },
    {
     "data": {
      "text/plain": [
       "<Figure size 2880x1080 with 0 Axes>"
      ]
     },
     "metadata": {},
     "output_type": "display_data"
    },
    {
     "data": {
      "text/plain": [
       "<Figure size 2880x1080 with 0 Axes>"
      ]
     },
     "metadata": {},
     "output_type": "display_data"
    },
    {
     "data": {
      "text/plain": [
       "<Figure size 2880x1080 with 0 Axes>"
      ]
     },
     "metadata": {},
     "output_type": "display_data"
    },
    {
     "data": {
      "text/plain": [
       "<Figure size 2880x1080 with 0 Axes>"
      ]
     },
     "metadata": {},
     "output_type": "display_data"
    },
    {
     "data": {
      "text/plain": [
       "<Figure size 2880x1080 with 0 Axes>"
      ]
     },
     "metadata": {},
     "output_type": "display_data"
    },
    {
     "data": {
      "text/plain": [
       "<Figure size 2880x1080 with 0 Axes>"
      ]
     },
     "metadata": {},
     "output_type": "display_data"
    },
    {
     "data": {
      "text/plain": [
       "<Figure size 2880x1080 with 0 Axes>"
      ]
     },
     "metadata": {},
     "output_type": "display_data"
    },
    {
     "data": {
      "text/plain": [
       "<Figure size 2880x1080 with 0 Axes>"
      ]
     },
     "metadata": {},
     "output_type": "display_data"
    },
    {
     "data": {
      "text/plain": [
       "<Figure size 2880x1080 with 0 Axes>"
      ]
     },
     "metadata": {},
     "output_type": "display_data"
    },
    {
     "data": {
      "text/plain": [
       "<Figure size 2880x1080 with 0 Axes>"
      ]
     },
     "metadata": {},
     "output_type": "display_data"
    },
    {
     "data": {
      "text/plain": [
       "<Figure size 2880x1080 with 0 Axes>"
      ]
     },
     "metadata": {},
     "output_type": "display_data"
    },
    {
     "data": {
      "text/plain": [
       "<Figure size 2880x1080 with 0 Axes>"
      ]
     },
     "metadata": {},
     "output_type": "display_data"
    },
    {
     "data": {
      "text/plain": [
       "<Figure size 2880x1080 with 0 Axes>"
      ]
     },
     "metadata": {},
     "output_type": "display_data"
    },
    {
     "data": {
      "text/plain": [
       "<Figure size 2880x1080 with 0 Axes>"
      ]
     },
     "metadata": {},
     "output_type": "display_data"
    },
    {
     "data": {
      "text/plain": [
       "<Figure size 2880x1080 with 0 Axes>"
      ]
     },
     "metadata": {},
     "output_type": "display_data"
    },
    {
     "data": {
      "text/plain": [
       "<Figure size 2880x1080 with 0 Axes>"
      ]
     },
     "metadata": {},
     "output_type": "display_data"
    },
    {
     "data": {
      "text/plain": [
       "<Figure size 2880x1080 with 0 Axes>"
      ]
     },
     "metadata": {},
     "output_type": "display_data"
    },
    {
     "data": {
      "text/plain": [
       "<Figure size 2880x1080 with 0 Axes>"
      ]
     },
     "metadata": {},
     "output_type": "display_data"
    },
    {
     "data": {
      "text/plain": [
       "<Figure size 2880x1080 with 0 Axes>"
      ]
     },
     "metadata": {},
     "output_type": "display_data"
    },
    {
     "data": {
      "text/plain": [
       "<Figure size 2880x1080 with 0 Axes>"
      ]
     },
     "metadata": {},
     "output_type": "display_data"
    },
    {
     "data": {
      "text/plain": [
       "<Figure size 2880x1080 with 0 Axes>"
      ]
     },
     "metadata": {},
     "output_type": "display_data"
    },
    {
     "data": {
      "text/plain": [
       "<Figure size 2880x1080 with 0 Axes>"
      ]
     },
     "metadata": {},
     "output_type": "display_data"
    },
    {
     "data": {
      "text/plain": [
       "<Figure size 2880x1080 with 0 Axes>"
      ]
     },
     "metadata": {},
     "output_type": "display_data"
    },
    {
     "data": {
      "text/plain": [
       "<Figure size 2880x1080 with 0 Axes>"
      ]
     },
     "metadata": {},
     "output_type": "display_data"
    },
    {
     "data": {
      "text/plain": [
       "<Figure size 2880x1080 with 0 Axes>"
      ]
     },
     "metadata": {},
     "output_type": "display_data"
    }
   ],
   "source": [
    "pipe.visualizer.categorical_violin_plot_with_images(mask_type=\"mask_and_expansion\",\n",
    "                                                   outward_expansion=5,\n",
    "                                                   analysis_variable=\"Solidity\")"
   ]
  },
  {
   "cell_type": "code",
   "execution_count": null,
   "metadata": {},
   "outputs": [],
   "source": []
  }
 ],
 "metadata": {
  "kernelspec": {
   "display_name": "Python 3",
   "language": "python",
   "name": "python3"
  },
  "language_info": {
   "codemirror_mode": {
    "name": "ipython",
    "version": 3
   },
   "file_extension": ".py",
   "mimetype": "text/x-python",
   "name": "python",
   "nbconvert_exporter": "python",
   "pygments_lexer": "ipython3",
   "version": "3.8.5"
  }
 },
 "nbformat": 4,
 "nbformat_minor": 4
}
