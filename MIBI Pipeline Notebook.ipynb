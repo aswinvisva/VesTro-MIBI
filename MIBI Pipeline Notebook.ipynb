{
 "cells": [
  {
   "cell_type": "markdown",
   "metadata": {},
   "source": [
    "# MIBI Analysis Pipeline"
   ]
  },
  {
   "cell_type": "markdown",
   "metadata": {},
   "source": [
    "## 1 Import Libraries"
   ]
  },
  {
   "cell_type": "code",
   "execution_count": 2,
   "metadata": {},
   "outputs": [],
   "source": [
    "from config.config_settings import Config\n",
    "from utils.mibi_pipeline import MIBIPipeline"
   ]
  },
  {
   "cell_type": "code",
   "execution_count": 3,
   "metadata": {},
   "outputs": [],
   "source": [
    "conf = Config()\n",
    "pipe = MIBIPipeline(conf)"
   ]
  },
  {
   "cell_type": "markdown",
   "metadata": {},
   "source": [
    "## 2 Data Preprocessing"
   ]
  },
  {
   "cell_type": "code",
   "execution_count": 4,
   "metadata": {},
   "outputs": [
    {
     "name": "stdout",
     "output_type": "stream",
     "text": [
      "Configuration:\n",
      "\tSMA_positive_threshold         = 0.1\n",
      "\tall_masks                      = ['astrocytes', 'BBB', 'largevessels', 'microglia', 'myelin', 'plaques', 'tangles', 'allvessels']\n",
      "\tbrain_region_names             = ['MFG', 'HIP', 'CAUD']\n",
      "\tbrain_region_point_ranges      = [(1, 16), (17, 32), (33, 48)]\n",
      "\tcaud_hip_mfg_separate_dir      = False\n",
      "\tcreate_allpoints_expansion_line_plots = True\n",
      "\tcreate_biaxial_scatter_plot    = False\n",
      "\tcreate_blurred_vessels_mask    = False\n",
      "\tcreate_brain_region_expansion_heatmaps = True\n",
      "\tcreate_brain_region_expansion_line_plots = True\n",
      "\tcreate_embedded_vessel_id_masks = False\n",
      "\tcreate_expanded_vessel_masks   = False\n",
      "\tcreate_expansion_ring_plots    = False\n",
      "\tcreate_expansion_violin_plots  = True\n",
      "\tcreate_expression_histogram    = False\n",
      "\tcreate_marker_expression_overlay_masks = False\n",
      "\tcreate_point_expansion_line_plots = True\n",
      "\tcreate_removed_vessels_expression_boxplot = False\n",
      "\tcreate_removed_vessels_mask    = False\n",
      "\tcreate_spatial_probability_maps = False\n",
      "\tcreate_vessel_areas_histograms_and_boxplots = False\n",
      "\tcreate_vessel_expansion_line_plots = False\n",
      "\tcreate_vessel_id_plot          = False\n",
      "\tcreate_vessel_nonvessel_heatmaps = True\n",
      "\tcreate_vessel_nonvessel_mask   = True\n",
      "\tdata_dir                       = /home/aswinvisva/oliveria_data/data/hires\n",
      "\tdata_resolution                = hires\n",
      "\tdata_resolution_size           = (500, 500)\n",
      "\tdata_resolution_units          = μm\n",
      "\tdescribe_markers_when_reading  = False\n",
      "\tdistance_interval              = 0.5\n",
      "\texpansion_to_run               = [1]\n",
      "\texpression_type                = area_normalized_counts\n",
      "\tguassian_blur                  = (2, 2)\n",
      "\tlarge_vessel_threshold         = 500\n",
      "\tline_plots_bin_colors          = {'Nucleus': 'y', 'Microglia': 'g', 'Disease': 'k', 'Vessels': 'b', 'Astrocytes': 'r', 'Synapse': 'rebeccapurple', 'Oligodendrocytes': 'darkorange', 'Neurons': 'm'}\n",
      "\tline_plots_color_maps          = {'Nucleus': <matplotlib.colors.LinearSegmentedColormap object at 0x7f5c285b9790>, 'Microglia': <matplotlib.colors.LinearSegmentedColormap object at 0x7f5c2861b9d0>, 'Disease': <matplotlib.colors.LinearSegmentedColormap object at 0x7f5c2861b950>, 'Vessels': <matplotlib.colors.LinearSegmentedColormap object at 0x7f5c2861b210>, 'Astrocytes': <matplotlib.colors.LinearSegmentedColormap object at 0x7f5c2861be10>, 'Synapse': <matplotlib.colors.LinearSegmentedColormap object at 0x7f5c2861bc10>, 'Oligodendrocytes': <matplotlib.colors.LinearSegmentedColormap object at 0x7f5c2861ba90>, 'Neurons': <matplotlib.colors.LinearSegmentedColormap object at 0x7f5c269a8650>}\n",
      "\tmarker_clusters                = {'Nucleus': ['HH3'], 'Microglia': ['CD45', 'HLADR', 'Iba1'], 'Disease': ['CD47', 'ABeta42', 'polyubiK48', 'PHFTau', '8OHGuanosine'], 'Vessels': ['SMA', 'CD31', 'CollagenIV', 'TrkA', 'GLUT1', 'Desmin', 'vWF', 'CD105'], 'Astrocytes': ['S100b', 'GlnSyn', 'Cx30', 'EAAT2', 'CD44', 'GFAP', 'Cx43'], 'Synapse': ['CD56', 'Synaptophysin', 'VAMP2', 'PSD95'], 'Oligodendrocytes': ['MOG', 'MAG'], 'Neurons': ['Calretinin', 'Parvalbumin', 'MAP2', 'Gephyrin']}\n",
      "\tmarkers_to_ignore              = ['GAD', 'Neurogranin', 'ABeta40', 'pTDP43', 'polyubik63', 'Background', 'Au197', 'Ca40', 'Fe56', 'Na23', 'Si28', 'La139', 'Ta181', 'C12']\n",
      "\tmasks_dir                      = /home/aswinvisva/oliveria_data/masks/hires\n",
      "\tmax_expansions                 = 1\n",
      "\tminimum_contour_area_to_remove = 29.802322387695312\n",
      "\tn_markers                      = 34\n",
      "\tn_points                       = 48\n",
      "\tn_points_per_dir               = 48\n",
      "\tnonvessel_mask_colour          = (0, 0, 179)\n",
      "\tnormalization_type             = percentile\n",
      "\tpercentile_to_normalize        = 99\n",
      "\tperform_inward_expansions      = False\n",
      "\tpixel_interval                 = 1.024\n",
      "\tpixels_to_distance             = 0.48828125\n",
      "\tpoint_dir                      = Point\n",
      "\tprimary_categorical_splitter   = Vessel Size\n",
      "\tsave_to_csv                    = False\n",
      "\tscaling_factor                 = 100\n",
      "\tsecondary_categorical_splitter = SMA Presence\n",
      "\tsegmentation_mask_size         = (1024, 1024)\n",
      "\tselected_segmentation_mask_type = allvessels\n",
      "\tshow_probability_distribution_for_expression = False\n",
      "\tshow_segmentation_masks_when_reading = False\n",
      "\tshow_vessel_contours_when_extracting = False\n",
      "\tshow_vessel_masks_when_generating_expression = False\n",
      "\tsplits                         = ['Vessel Size', 'SMA Presence']\n",
      "\ttifs_dir                       = TIFs\n",
      "\ttransformation_type            = arcsinh\n",
      "\tuse_guassian_blur_when_extracting_vessels = True\n",
      "\tvessel_line_plots_points       = [1, 7, 26, 30, 43, 48]\n",
      "\tvessel_mask_colour             = (153, 51, 0)\n",
      "\tvessel_space_colour            = (51, 153, 0)\n",
      "\tvisualization_results_dir      = results/hires\n",
      "\n"
     ]
    },
    {
     "name": "stderr",
     "output_type": "stream",
     "text": [
      "INFO:Computing outward expansion data:\n",
      "\n",
      "INFO:Expanding Distance... : 0.0μm\n",
      "\n",
      "100%|██████████| 48/48 [00:50<00:00,  1.06s/it]\n",
      "INFO:Expanding Distance... : 0.5μm\n",
      "\n",
      "100%|██████████| 48/48 [04:05<00:00,  5.12s/it]\n",
      "INFO:Performing data normalization:\n",
      "\n"
     ]
    }
   ],
   "source": [
    "pipe.preprocess_data()"
   ]
  },
  {
   "cell_type": "markdown",
   "metadata": {},
   "source": [
    "## 3 Visualizations"
   ]
  },
  {
   "cell_type": "code",
   "execution_count": null,
   "metadata": {},
   "outputs": [],
   "source": [
    "# Expression Histograms\n",
    "pipe.visualizer.expression_histogram()"
   ]
  },
  {
   "cell_type": "code",
   "execution_count": null,
   "metadata": {},
   "outputs": [],
   "source": []
  }
 ],
 "metadata": {
  "kernelspec": {
   "display_name": "Python 3",
   "language": "python",
   "name": "python3"
  },
  "language_info": {
   "codemirror_mode": {
    "name": "ipython",
    "version": 3
   },
   "file_extension": ".py",
   "mimetype": "text/x-python",
   "name": "python",
   "nbconvert_exporter": "python",
   "pygments_lexer": "ipython3",
   "version": "3.7.7"
  }
 },
 "nbformat": 4,
 "nbformat_minor": 4
}
